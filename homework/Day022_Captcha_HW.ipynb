{
 "cells": [
  {
   "cell_type": "markdown",
   "metadata": {},
   "source": [
    "## 『本次練習內容』\n",
    "#### 搭建一個能識別驗證碼的模型(CNN+CTC)"
   ]
  },
  {
   "cell_type": "markdown",
   "metadata": {},
   "source": [
    "## 『本次練習目的』\n",
    "  #### 了解如何結合CNN與CTC Loss\n",
    "  #### 有時間學員也可以延伸閱讀CNN+RNN+CTC模型\n",
    "  #### 沒有GPU的學員可以使用Colab，可以參考問答區的文章"
   ]
  },
  {
   "cell_type": "code",
   "execution_count": null,
   "metadata": {},
   "outputs": [],
   "source": [
    "## 使用Colab可先run這裡的code\n",
    "#假如要連結自己的雲端硬碟再開啟\n",
    "##from google.colab import drive\n",
    "##drive.mount('/content/gdrive')\n",
    "#檢查GPU\n",
    "##!nvidia-smi\n",
    "##安裝產生驗證碼的套件"
   ]
  },
  {
   "cell_type": "markdown",
   "metadata": {},
   "source": [
    "## 記得先 pip install captcha"
   ]
  },
  {
   "cell_type": "code",
   "execution_count": null,
   "metadata": {
    "colab": {
     "base_uri": "https://localhost:8080/",
     "height": 136
    },
    "colab_type": "code",
    "id": "AxGi02yvx1Go",
    "outputId": "e7bf7eb2-6699-441b-d724-6b5635ffa2bc"
   },
   "outputs": [],
   "source": [
    "##!pip install captcha"
   ]
  },
  {
   "cell_type": "markdown",
   "metadata": {},
   "source": [
    "## 產生驗證碼"
   ]
  },
  {
   "cell_type": "code",
   "execution_count": 1,
   "metadata": {
    "colab": {
     "base_uri": "https://localhost:8080/",
     "height": 254
    },
    "colab_type": "code",
    "id": "h2VVCBKwk6Zv",
    "outputId": "72cda421-1eca-46b1-d5bd-3b3d9e47eb08"
   },
   "outputs": [
    {
     "name": "stdout",
     "output_type": "stream",
     "text": [
      "0123456789ABCDEFGHIJKLMNOPQRSTUVWXYZ\n"
     ]
    },
    {
     "data": {
      "text/plain": [
       "Text(0.5, 1.0, 'QSAY')"
      ]
     },
     "execution_count": 1,
     "metadata": {},
     "output_type": "execute_result"
    },
    {
     "data": {
      "image/png": "[encoded data removed]",
      "text/plain": [
       "<Figure size 432x288 with 1 Axes>"
      ]
     },
     "metadata": {
      "image/png": {
       "height": 203,
       "width": 368
      },
      "needs_background": "light"
     },
     "output_type": "display_data"
    }
   ],
   "source": [
    "from captcha.image import ImageCaptcha\n",
    "import matplotlib.pyplot as plt\n",
    "import numpy as np\n",
    "import random\n",
    "\n",
    "%matplotlib inline\n",
    "%config InlineBackend.figure_format = 'retina'\n",
    "\n",
    "import string\n",
    "##驗證碼包含0-10數字以及26個英文字母\n",
    "characters = string.digits + string.ascii_uppercase\n",
    "print(characters)\n",
    "\n",
    "##設定產生圖片尺寸，以及總類別，n_class之所以要加一是為了留一個位置給Blank\n",
    "width, height, n_len, n_class = 170, 80, 4, len(characters)+1\n",
    "\n",
    "##設定產生驗證碼的generator\n",
    "generator = ImageCaptcha(width=width, height=height)\n",
    "\n",
    "##我們先練習固定長度4個字的驗證碼\n",
    "random_str = ''.join([random.choice(characters) for j in range(4)])\n",
    "img = generator.generate_image(random_str)\n",
    "\n",
    "plt.imshow(img)\n",
    "plt.title(random_str)"
   ]
  },
  {
   "cell_type": "markdown",
   "metadata": {},
   "source": [
    "## 自己搭建一個CNN模型使得output feature Map 高度被壓縮成小於4，8<寬度<20\n",
    "#### 解答的output feature Map 為 (batch_size,1,13,32)"
   ]
  },
  {
   "cell_type": "code",
   "execution_count": 8,
   "metadata": {
    "colab": {
     "base_uri": "https://localhost:8080/",
     "height": 136
    },
    "colab_type": "code",
    "id": "KX3Jq1sClGGn",
    "outputId": "ea40671a-fc3b-4758-8d29-4692252e840d"
   },
   "outputs": [
    {
     "name": "stderr",
     "output_type": "stream",
     "text": [
      "C:\\Users\\wilson\\Anaconda3\\envs\\tf-wilson\\lib\\site-packages\\ipykernel_launcher.py:8: UserWarning: Update your `Conv2D` call to the Keras 2 API: `Conv2D(32, (3, 3), activation=\"relu\")`\n",
      "  \n",
      "C:\\Users\\wilson\\Anaconda3\\envs\\tf-wilson\\lib\\site-packages\\ipykernel_launcher.py:10: UserWarning: Update your `Conv2D` call to the Keras 2 API: `Conv2D(32, (3, 3), activation=\"relu\")`\n",
      "  # Remove the CWD from sys.path while we load stuff.\n",
      "C:\\Users\\wilson\\Anaconda3\\envs\\tf-wilson\\lib\\site-packages\\ipykernel_launcher.py:30: UserWarning: Update your `Model` call to the Keras 2 API: `Model(inputs=Tensor(\"in..., outputs=Tensor(\"de...)`\n",
      "C:\\Users\\wilson\\Anaconda3\\envs\\tf-wilson\\lib\\site-packages\\ipykernel_launcher.py:41: UserWarning: Update your `Model` call to the Keras 2 API: `Model(inputs=[<tf.Tenso..., outputs=[<tf.Tenso...)`\n"
     ]
    }
   ],
   "source": [
    "from keras.models import *\n",
    "from keras.layers import *\n",
    "rnn_size = 128\n",
    "\n",
    "input_tensor = Input((height,width, 3))\n",
    "x = input_tensor\n",
    "\n",
    "x = Convolution2D(32, 3, 3, activation='relu')(x)\n",
    "x = keras.layers.BatchNormalization(axis=-1)(x)\n",
    "x = Convolution2D(32, 3, 3, activation='relu')(x)\n",
    "x = keras.layers.BatchNormalization(axis=-1)(x)\n",
    "\n",
    "x = MaxPooling2D(pool_size=(2, 2))(x)\n",
    "\n",
    "\n",
    "##記錄輸出CNN尺寸，loss部分需要這個資訊\n",
    "##conv_shape=(Batch_size,輸出高度,輸出寬度,輸出深度)\n",
    "conv_shape = x.get_shape()\n",
    "\n",
    "##從(Batch_size,輸出高度,輸出寬度,輸出深度)變成(Batch_size,輸出寬度,輸出深度*輸出高度)\n",
    "x = Reshape(target_shape=(int(conv_shape[2]), int(conv_shape[1]*conv_shape[3])))(x)\n",
    "\n",
    "x = Dense(32, activation='relu')(x)\n",
    "\n",
    "x = Dropout(0.25)(x)\n",
    "x = Dense(n_class, activation='softmax')(x)\n",
    "\n",
    "\n",
    "##包裝用來預測的model\n",
    "base_model = Model(input=input_tensor, output=x)\n",
    "\n",
    "\n",
    "##設定要給CTC Loss的資訊\n",
    "labels = Input(name='the_labels', shape=[n_len], dtype='float32')\n",
    "input_length = Input(name='input_length', shape=[1], dtype='int64')\n",
    "label_length = Input(name='label_length', shape=[1], dtype='int64')\n",
    "loss_out = Lambda(ctc_lambda_func, output_shape=(1,), \n",
    "                  name='ctc')([x, labels, input_length, label_length])\n",
    "\n",
    "##這裡的model是用來計算loss\n",
    "model = Model(input=[input_tensor, labels, input_length, label_length], output=[loss_out])\n",
    "\n",
    "##之所以要lambda y_true, y_pred: y_pred是因為我們的loss已經包在網路裡，會output:y_true, y_pred，而我們只需要y_pred\n",
    "model.compile(loss={'ctc': lambda y_true, y_pred: y_pred}, optimizer='SGD')"
   ]
  },
  {
   "cell_type": "code",
   "execution_count": 9,
   "metadata": {
    "colab": {
     "base_uri": "https://localhost:8080/",
     "height": 1000
    },
    "colab_type": "code",
    "id": "m1YRv0TVN_FL",
    "outputId": "c5b995c5-43b0-481b-8cd1-0fd5f85e4f03"
   },
   "outputs": [
    {
     "name": "stdout",
     "output_type": "stream",
     "text": [
      "Model: \"model_6\"\n",
      "__________________________________________________________________________________________________\n",
      "Layer (type)                    Output Shape         Param #     Connected to                     \n",
      "==================================================================================================\n",
      "input_5 (InputLayer)            (None, 80, 170, 3)   0                                            \n",
      "__________________________________________________________________________________________________\n",
      "conv2d_15 (Conv2D)              (None, 78, 168, 32)  896         input_5[0][0]                    \n",
      "__________________________________________________________________________________________________\n",
      "batch_normalization_15 (BatchNo (None, 78, 168, 32)  128         conv2d_15[0][0]                  \n",
      "__________________________________________________________________________________________________\n",
      "conv2d_16 (Conv2D)              (None, 76, 166, 32)  9248        batch_normalization_15[0][0]     \n",
      "__________________________________________________________________________________________________\n",
      "batch_normalization_16 (BatchNo (None, 76, 166, 32)  128         conv2d_16[0][0]                  \n",
      "__________________________________________________________________________________________________\n",
      "max_pooling2d_8 (MaxPooling2D)  (None, 38, 83, 32)   0           batch_normalization_16[0][0]     \n",
      "__________________________________________________________________________________________________\n",
      "reshape_5 (Reshape)             (None, 83, 1216)     0           max_pooling2d_8[0][0]            \n",
      "__________________________________________________________________________________________________\n",
      "dense_9 (Dense)                 (None, 83, 32)       38944       reshape_5[0][0]                  \n",
      "__________________________________________________________________________________________________\n",
      "dropout_5 (Dropout)             (None, 83, 32)       0           dense_9[0][0]                    \n",
      "__________________________________________________________________________________________________\n",
      "dense_10 (Dense)                (None, 83, 37)       1221        dropout_5[0][0]                  \n",
      "__________________________________________________________________________________________________\n",
      "the_labels (InputLayer)         (None, 4)            0                                            \n",
      "__________________________________________________________________________________________________\n",
      "input_length (InputLayer)       (None, 1)            0                                            \n",
      "__________________________________________________________________________________________________\n",
      "label_length (InputLayer)       (None, 1)            0                                            \n",
      "__________________________________________________________________________________________________\n",
      "ctc (Lambda)                    (None, 1)            0           dense_10[0][0]                   \n",
      "                                                                 the_labels[0][0]                 \n",
      "                                                                 input_length[0][0]               \n",
      "                                                                 label_length[0][0]               \n",
      "==================================================================================================\n",
      "Total params: 50,565\n",
      "Trainable params: 50,437\n",
      "Non-trainable params: 128\n",
      "__________________________________________________________________________________________________\n"
     ]
    }
   ],
   "source": [
    "model.summary()"
   ]
  },
  {
   "cell_type": "code",
   "execution_count": 7,
   "metadata": {},
   "outputs": [],
   "source": [
    "from keras import backend as K\n",
    "import keras\n",
    "\n",
    "##CTC Loss需要四個資訊，分別是\n",
    "## Label\n",
    "## 預測\n",
    "## CNN OUTPUT寬度\n",
    "## 預測影像所包含文字長度\n",
    "def ctc_lambda_func(args):\n",
    "    y_pred, labels, input_length, label_length = args\n",
    "    return K.ctc_batch_cost(labels, y_pred, input_length, label_length)"
   ]
  },
  {
   "cell_type": "code",
   "execution_count": 10,
   "metadata": {
    "colab": {},
    "colab_type": "code",
    "id": "5Jzb1YnqlJug"
   },
   "outputs": [],
   "source": [
    "##設計generator產生training data\n",
    "## 產生包含要給loss的資訊\n",
    "## X=輸入影像\n",
    "## np.ones(batch_size)*int(conv_shape[2])=CNN輸出feature Map寬度\n",
    "## np.ones(batch_size)*n_len=字串長度(可浮動)\n",
    "\n",
    "def gen(batch_size=128):\n",
    "    X = np.zeros((batch_size,height, width, 3), dtype=np.uint8)\n",
    "    y = np.zeros((batch_size, n_len), dtype=np.uint8)\n",
    "    while True:\n",
    "        generator = ImageCaptcha(width=width, height=height)\n",
    "        for i in range(batch_size):\n",
    "            random_str = ''.join([random.choice(characters) for j in range(4)])\n",
    "            X[i] = np.array(generator.generate_image(random_str))\n",
    "            y[i] = [characters.find(x) for x in random_str]\n",
    "        yield [X, y,np.ones(batch_size)*int(conv_shape[2]), np.ones(batch_size)*n_len], np.ones(batch_size)"
   ]
  },
  {
   "cell_type": "code",
   "execution_count": 11,
   "metadata": {
    "colab": {
     "base_uri": "https://localhost:8080/",
     "height": 225
    },
    "colab_type": "code",
    "id": "dfcFs6InVQaT",
    "outputId": "3f186d49-2e30-4efd-87c0-0670a58bc4c1"
   },
   "outputs": [
    {
     "name": "stdout",
     "output_type": "stream",
     "text": [
      "Label:  [[ 7 23  5 22]]\n",
      "CNN輸出寬度:  [83.]\n",
      "字串長度(可浮動):  [4.]\n"
     ]
    },
    {
     "data": {
      "image/png": "[encoded data removed]",
      "text/plain": [
       "<Figure size 432x288 with 1 Axes>"
      ]
     },
     "metadata": {
      "image/png": {
       "height": 191,
       "width": 368
      },
      "needs_background": "light"
     },
     "output_type": "display_data"
    }
   ],
   "source": [
    "next_ge=gen(batch_size=1)\n",
    "test_ge=next(next_ge)\n",
    "plt.imshow(test_ge[0][0][0])\n",
    "print('Label: ',test_ge[0][1])\n",
    "print('CNN輸出寬度: ',test_ge[0][2])\n",
    "print('字串長度(可浮動): ',test_ge[0][3])"
   ]
  },
  {
   "cell_type": "markdown",
   "metadata": {},
   "source": [
    "## 開始訓練"
   ]
  },
  {
   "cell_type": "code",
   "execution_count": 14,
   "metadata": {
    "colab": {
     "base_uri": "https://localhost:8080/",
     "height": 1000
    },
    "colab_type": "code",
    "id": "fqdKnqollUKj",
    "outputId": "3da34151-a9df-4287-ead6-50c414d30e65"
   },
   "outputs": [
    {
     "name": "stdout",
     "output_type": "stream",
     "text": [
      "Epoch 1/2\n",
      "10/10 [==============================] - 9s 917ms/step - loss: 16.8559\n",
      "Epoch 2/2\n",
      "10/10 [==============================] - 10s 990ms/step - loss: 16.9078\n"
     ]
    },
    {
     "data": {
      "text/plain": [
       "<keras.callbacks.callbacks.History at 0x15e5bdbe308>"
      ]
     },
     "execution_count": 14,
     "metadata": {},
     "output_type": "execute_result"
    }
   ],
   "source": [
    "model.fit_generator(gen(32), steps_per_epoch=10, epochs=2)"
   ]
  },
  {
   "cell_type": "markdown",
   "metadata": {},
   "source": [
    "## 預測"
   ]
  },
  {
   "cell_type": "code",
   "execution_count": 23,
   "metadata": {},
   "outputs": [
    {
     "data": {
      "image/png": "[encoded data removed]",
      "text/plain": [
       "<Figure size 432x288 with 1 Axes>"
      ]
     },
     "metadata": {
      "image/png": {
       "height": 217,
       "width": 368
      },
      "needs_background": "light"
     },
     "output_type": "display_data"
    }
   ],
   "source": [
    "characters2 = characters + ' '\n",
    "[X_test, y_test, _, _], _  = next(gen(1))\n",
    "y_pred = base_model.predict(X_test)\n",
    "##用ctc_decode得到解答，自己寫可以參考下方\n",
    "out = K.get_value(K.ctc_decode(y_pred, input_length=np.ones(y_pred.shape[0])*y_pred.shape[1], )[0][0])\n",
    "out = ''.join([characters[x] for x in out[0]])\n",
    "y_true = ''.join([characters[x] for x in y_test[0]])\n",
    "\n",
    "plt.imshow(X_test[0])\n",
    "plt.title('pred:' + str(out) + '\\ntrue: ' + str(y_true))\n",
    "\n",
    "argmax = np.argmax(y_pred, axis=2)[0]"
   ]
  },
  {
   "cell_type": "markdown",
   "metadata": {},
   "source": [
    "## 自己寫 decode CTC"
   ]
  },
  {
   "cell_type": "code",
   "execution_count": 24,
   "metadata": {},
   "outputs": [],
   "source": [
    "## 其中0代表預測為空格，如果預測相同字符之間沒有空格要移除\n",
    "word=''\n",
    "n=''\n",
    "for single_result in y_pred[0].argmax(1):\n",
    "    if single_result != 36:\n",
    "        if n != single_result:\n",
    "            word+=characters[single_result]\n",
    "    n=single_result"
   ]
  },
  {
   "cell_type": "markdown",
   "metadata": {},
   "source": [
    "## 額外參考：加入RNN的神經網路"
   ]
  },
  {
   "cell_type": "code",
   "execution_count": 25,
   "metadata": {},
   "outputs": [
    {
     "name": "stderr",
     "output_type": "stream",
     "text": [
      "C:\\Users\\wilson\\Anaconda3\\envs\\tf-wilson\\lib\\site-packages\\ipykernel_launcher.py:8: UserWarning: Update your `Conv2D` call to the Keras 2 API: `Conv2D(32, (3, 3), activation=\"relu\")`\n",
      "  \n",
      "C:\\Users\\wilson\\Anaconda3\\envs\\tf-wilson\\lib\\site-packages\\ipykernel_launcher.py:10: UserWarning: Update your `Conv2D` call to the Keras 2 API: `Conv2D(32, (3, 3), activation=\"relu\")`\n",
      "  # Remove the CWD from sys.path while we load stuff.\n",
      "C:\\Users\\wilson\\Anaconda3\\envs\\tf-wilson\\lib\\site-packages\\ipykernel_launcher.py:23: UserWarning: Update your `GRU` call to the Keras 2 API: `GRU(128, return_sequences=True, name=\"gru1\", kernel_initializer=\"he_normal\")`\n",
      "C:\\Users\\wilson\\Anaconda3\\envs\\tf-wilson\\lib\\site-packages\\ipykernel_launcher.py:25: UserWarning: Update your `GRU` call to the Keras 2 API: `GRU(128, return_sequences=True, go_backwards=True, name=\"gru1_b\", kernel_initializer=\"he_normal\")`\n",
      "C:\\Users\\wilson\\Anaconda3\\envs\\tf-wilson\\lib\\site-packages\\ipykernel_launcher.py:28: UserWarning: Update your `GRU` call to the Keras 2 API: `GRU(128, return_sequences=True, name=\"gru2\", kernel_initializer=\"he_normal\")`\n",
      "C:\\Users\\wilson\\Anaconda3\\envs\\tf-wilson\\lib\\site-packages\\ipykernel_launcher.py:30: UserWarning: Update your `GRU` call to the Keras 2 API: `GRU(128, return_sequences=True, go_backwards=True, name=\"gru2_b\", kernel_initializer=\"he_normal\")`\n",
      "C:\\Users\\wilson\\Anaconda3\\envs\\tf-wilson\\lib\\site-packages\\ipykernel_launcher.py:34: UserWarning: Update your `Dense` call to the Keras 2 API: `Dense(37, activation=\"softmax\", kernel_initializer=\"he_normal\")`\n",
      "C:\\Users\\wilson\\Anaconda3\\envs\\tf-wilson\\lib\\site-packages\\ipykernel_launcher.py:36: UserWarning: Update your `Model` call to the Keras 2 API: `Model(inputs=Tensor(\"in..., outputs=Tensor(\"de...)`\n",
      "C:\\Users\\wilson\\Anaconda3\\envs\\tf-wilson\\lib\\site-packages\\ipykernel_launcher.py:44: UserWarning: Update your `Model` call to the Keras 2 API: `Model(inputs=[<tf.Tenso..., outputs=[<tf.Tenso...)`\n"
     ]
    }
   ],
   "source": [
    "from keras.models import *\n",
    "from keras.layers import *\n",
    "rnn_size = 128\n",
    "\n",
    "input_tensor = Input((height,width, 3))\n",
    "x = input_tensor\n",
    "for i in range(4):\n",
    "    x = Convolution2D(32, 3, 3, activation='relu')(x)\n",
    "    x = keras.layers.BatchNormalization(axis=-1)(x)\n",
    "    x = Convolution2D(32, 3, 3, activation='relu')(x)\n",
    "    x = keras.layers.BatchNormalization(axis=-1)(x)\n",
    "    if i <3:\n",
    "        x = MaxPooling2D(pool_size=(2, 2))(x)\n",
    "    else:\n",
    "        x = MaxPooling2D(pool_size=(2, 1))(x)\n",
    "\n",
    "\n",
    "conv_shape = x.get_shape()\n",
    "x = Reshape(target_shape=(int(conv_shape[2]), int(conv_shape[1]*conv_shape[3])))(x)\n",
    "\n",
    "x = Dense(32, activation='relu')(x)\n",
    "\n",
    "gru_1 = GRU(rnn_size, return_sequences=True, init='he_normal', name='gru1')(x)\n",
    "gru_1b = GRU(rnn_size, return_sequences=True, go_backwards=True, \n",
    "             init='he_normal', name='gru1_b')(x)\n",
    "gru1_merged = keras.layers.add([gru_1, gru_1b])\n",
    "\n",
    "gru_2 = GRU(rnn_size, return_sequences=True, init='he_normal', name='gru2')(gru1_merged)\n",
    "gru_2b = GRU(rnn_size, return_sequences=True, go_backwards=True, \n",
    "             init='he_normal', name='gru2_b')(gru1_merged)\n",
    "x = keras.layers.Concatenate()([gru_2, gru_2b])\n",
    "\n",
    "x = Dropout(0.25)(x)\n",
    "x = Dense(n_class, init='he_normal', activation='softmax')(x)\n",
    "\n",
    "base_model = Model(input=input_tensor, output=x)\n",
    "\n",
    "labels = Input(name='the_labels', shape=[n_len], dtype='float32')\n",
    "input_length = Input(name='input_length', shape=[1], dtype='int64')\n",
    "label_length = Input(name='label_length', shape=[1], dtype='int64')\n",
    "loss_out = Lambda(ctc_lambda_func, output_shape=(1,), \n",
    "                  name='ctc')([x, labels, input_length, label_length])\n",
    "\n",
    "model = Model(input=[input_tensor, labels, input_length, label_length], output=[loss_out])\n",
    "model.compile(loss={'ctc': lambda y_true, y_pred: y_pred}, optimizer='Adam')"
   ]
  },
  {
   "cell_type": "code",
   "execution_count": 26,
   "metadata": {},
   "outputs": [
    {
     "name": "stdout",
     "output_type": "stream",
     "text": [
      "Model: \"model_8\"\n",
      "__________________________________________________________________________________________________\n",
      "Layer (type)                    Output Shape         Param #     Connected to                     \n",
      "==================================================================================================\n",
      "input_6 (InputLayer)            (None, 80, 170, 3)   0                                            \n",
      "__________________________________________________________________________________________________\n",
      "conv2d_17 (Conv2D)              (None, 78, 168, 32)  896         input_6[0][0]                    \n",
      "__________________________________________________________________________________________________\n",
      "batch_normalization_17 (BatchNo (None, 78, 168, 32)  128         conv2d_17[0][0]                  \n",
      "__________________________________________________________________________________________________\n",
      "conv2d_18 (Conv2D)              (None, 76, 166, 32)  9248        batch_normalization_17[0][0]     \n",
      "__________________________________________________________________________________________________\n",
      "batch_normalization_18 (BatchNo (None, 76, 166, 32)  128         conv2d_18[0][0]                  \n",
      "__________________________________________________________________________________________________\n",
      "max_pooling2d_9 (MaxPooling2D)  (None, 38, 83, 32)   0           batch_normalization_18[0][0]     \n",
      "__________________________________________________________________________________________________\n",
      "conv2d_19 (Conv2D)              (None, 36, 81, 32)   9248        max_pooling2d_9[0][0]            \n",
      "__________________________________________________________________________________________________\n",
      "batch_normalization_19 (BatchNo (None, 36, 81, 32)   128         conv2d_19[0][0]                  \n",
      "__________________________________________________________________________________________________\n",
      "conv2d_20 (Conv2D)              (None, 34, 79, 32)   9248        batch_normalization_19[0][0]     \n",
      "__________________________________________________________________________________________________\n",
      "batch_normalization_20 (BatchNo (None, 34, 79, 32)   128         conv2d_20[0][0]                  \n",
      "__________________________________________________________________________________________________\n",
      "max_pooling2d_10 (MaxPooling2D) (None, 17, 39, 32)   0           batch_normalization_20[0][0]     \n",
      "__________________________________________________________________________________________________\n",
      "conv2d_21 (Conv2D)              (None, 15, 37, 32)   9248        max_pooling2d_10[0][0]           \n",
      "__________________________________________________________________________________________________\n",
      "batch_normalization_21 (BatchNo (None, 15, 37, 32)   128         conv2d_21[0][0]                  \n",
      "__________________________________________________________________________________________________\n",
      "conv2d_22 (Conv2D)              (None, 13, 35, 32)   9248        batch_normalization_21[0][0]     \n",
      "__________________________________________________________________________________________________\n",
      "batch_normalization_22 (BatchNo (None, 13, 35, 32)   128         conv2d_22[0][0]                  \n",
      "__________________________________________________________________________________________________\n",
      "max_pooling2d_11 (MaxPooling2D) (None, 6, 17, 32)    0           batch_normalization_22[0][0]     \n",
      "__________________________________________________________________________________________________\n",
      "conv2d_23 (Conv2D)              (None, 4, 15, 32)    9248        max_pooling2d_11[0][0]           \n",
      "__________________________________________________________________________________________________\n",
      "batch_normalization_23 (BatchNo (None, 4, 15, 32)    128         conv2d_23[0][0]                  \n",
      "__________________________________________________________________________________________________\n",
      "conv2d_24 (Conv2D)              (None, 2, 13, 32)    9248        batch_normalization_23[0][0]     \n",
      "__________________________________________________________________________________________________\n",
      "batch_normalization_24 (BatchNo (None, 2, 13, 32)    128         conv2d_24[0][0]                  \n",
      "__________________________________________________________________________________________________\n",
      "max_pooling2d_12 (MaxPooling2D) (None, 1, 13, 32)    0           batch_normalization_24[0][0]     \n",
      "__________________________________________________________________________________________________\n",
      "reshape_6 (Reshape)             (None, 13, 32)       0           max_pooling2d_12[0][0]           \n",
      "__________________________________________________________________________________________________\n",
      "dense_11 (Dense)                (None, 13, 32)       1056        reshape_6[0][0]                  \n",
      "__________________________________________________________________________________________________\n",
      "gru1 (GRU)                      (None, 13, 128)      61824       dense_11[0][0]                   \n",
      "__________________________________________________________________________________________________\n",
      "gru1_b (GRU)                    (None, 13, 128)      61824       dense_11[0][0]                   \n",
      "__________________________________________________________________________________________________\n",
      "add_1 (Add)                     (None, 13, 128)      0           gru1[0][0]                       \n",
      "                                                                 gru1_b[0][0]                     \n",
      "__________________________________________________________________________________________________\n",
      "gru2 (GRU)                      (None, 13, 128)      98688       add_1[0][0]                      \n",
      "__________________________________________________________________________________________________\n",
      "gru2_b (GRU)                    (None, 13, 128)      98688       add_1[0][0]                      \n",
      "__________________________________________________________________________________________________\n",
      "concatenate_1 (Concatenate)     (None, 13, 256)      0           gru2[0][0]                       \n",
      "                                                                 gru2_b[0][0]                     \n",
      "__________________________________________________________________________________________________\n",
      "dropout_6 (Dropout)             (None, 13, 256)      0           concatenate_1[0][0]              \n",
      "__________________________________________________________________________________________________\n",
      "dense_12 (Dense)                (None, 13, 37)       9509        dropout_6[0][0]                  \n",
      "__________________________________________________________________________________________________\n",
      "the_labels (InputLayer)         (None, 4)            0                                            \n",
      "__________________________________________________________________________________________________\n",
      "input_length (InputLayer)       (None, 1)            0                                            \n",
      "__________________________________________________________________________________________________\n",
      "label_length (InputLayer)       (None, 1)            0                                            \n",
      "__________________________________________________________________________________________________\n",
      "ctc (Lambda)                    (None, 1)            0           dense_12[0][0]                   \n",
      "                                                                 the_labels[0][0]                 \n",
      "                                                                 input_length[0][0]               \n",
      "                                                                 label_length[0][0]               \n",
      "==================================================================================================\n",
      "Total params: 398,245\n",
      "Trainable params: 397,733\n",
      "Non-trainable params: 512\n",
      "__________________________________________________________________________________________________\n"
     ]
    }
   ],
   "source": [
    "model.summary()"
   ]
  },
  {
   "cell_type": "code",
   "execution_count": null,
   "metadata": {},
   "outputs": [],
   "source": []
  }
 ],
 "metadata": {
  "accelerator": "GPU",
  "colab": {
   "collapsed_sections": [],
   "name": "Captcha.ipynb",
   "provenance": []
  },
  "kernelspec": {
   "display_name": "Python 3",
   "language": "python",
   "name": "python3"
  },
  "language_info": {
   "codemirror_mode": {
    "name": "ipython",
    "version": 3
   },
   "file_extension": ".py",
   "mimetype": "text/x-python",
   "name": "python",
   "nbconvert_exporter": "python",
   "pygments_lexer": "ipython3",
   "version": "3.7.6"
  }
 },
 "nbformat": 4,
 "nbformat_minor": 1
}
